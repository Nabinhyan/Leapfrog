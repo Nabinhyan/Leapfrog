{
 "cells": [
  {
   "cell_type": "markdown",
   "id": "2c760644",
   "metadata": {},
   "source": [
    "### Write a Python program to get the smallest and largest number from a list of integers."
   ]
  },
  {
   "cell_type": "code",
   "execution_count": 1,
   "id": "1e959b87",
   "metadata": {},
   "outputs": [
    {
     "name": "stdout",
     "output_type": "stream",
     "text": [
      "Smallest Number in list of number is 2\n",
      "Largest Number in list of inter is 77\n"
     ]
    }
   ],
   "source": [
    "list_num = [3,4,2,68,3,19,34,55,77]\n",
    "list_num.sort()\n",
    "small = list_num[0]\n",
    "large = list_num[-1]\n",
    "print(f\"Smallest Number in list of number is {small}\")\n",
    "print(f\"Largest Number in list of inter is {large}\")"
   ]
  },
  {
   "cell_type": "markdown",
   "id": "d8f062e1",
   "metadata": {},
   "source": [
    "### Write a Python program to get the following pattern using a nested loop.\n",
    "1\n",
    "22\n",
    "333\n",
    "4444\n",
    "55555\n",
    "666666\n",
    "7777777\n",
    "88888888\n",
    "999999999\n"
   ]
  },
  {
   "cell_type": "code",
   "execution_count": 2,
   "id": "c5877793",
   "metadata": {
    "scrolled": true
   },
   "outputs": [
    {
     "name": "stdout",
     "output_type": "stream",
     "text": [
      "\n",
      "1\n",
      "22\n",
      "333\n",
      "4444\n",
      "55555\n",
      "666666\n",
      "7777777\n",
      "88888888\n",
      "999999999\n"
     ]
    }
   ],
   "source": [
    "for i in range(10):\n",
    "    print(str(i) * i)"
   ]
  },
  {
   "cell_type": "markdown",
   "id": "8e8f9e17",
   "metadata": {},
   "source": [
    "### You are given a string and your task is to swap cases. In other words, convert all lowercase letters to uppercase letters and vice versa.\n",
    "Example: Pythonist 2 → pYTHONIST 2"
   ]
  },
  {
   "cell_type": "code",
   "execution_count": 3,
   "id": "aaec906a",
   "metadata": {},
   "outputs": [
    {
     "name": "stdout",
     "output_type": "stream",
     "text": [
      "Case Swapped String is pYTHONIST 2\n"
     ]
    }
   ],
   "source": [
    "def swapping_charachter(string, new_str):\n",
    "    for x in string:\n",
    "        if(x.islower()==True):\n",
    "            new_str+=x.upper()\n",
    "        elif(x.isupper()==True):\n",
    "            new_str+=x.lower()\n",
    "        else:\n",
    "            new_str+=x\n",
    "    print(f\"Case Swapped String is {new_str}\")\n",
    "\n",
    "string = \"Pythonist 2\"\n",
    "new_str = \"\"\n",
    "swapping_charachter(string, new_str)\n",
    "            "
   ]
  },
  {
   "cell_type": "markdown",
   "id": "6bae7806",
   "metadata": {},
   "source": [
    "### Given a sentence use string split and join to get the result as shown below:\n",
    "Sample Input: this is a string   \n",
    "Sample Output: this-is-a-string"
   ]
  },
  {
   "cell_type": "code",
   "execution_count": 4,
   "id": "4626ff4e",
   "metadata": {},
   "outputs": [
    {
     "name": "stdout",
     "output_type": "stream",
     "text": [
      "this-is-a-string\n"
     ]
    }
   ],
   "source": [
    "r_string = \"this is a string\"\n",
    "r_string = r_string.split()\n",
    "print(\"-\".join(r_string))"
   ]
  },
  {
   "cell_type": "markdown",
   "id": "a30ee2a4",
   "metadata": {},
   "source": [
    "### Write a Python program to find the difference between consecutive numbers in a given list.\n",
    "Original list: [4, 5, 8, 9, 6, 10]\n",
    "Difference between consecutive numbers of the said list: [1, 3, 1, -3, 4]\n"
   ]
  },
  {
   "cell_type": "code",
   "execution_count": 5,
   "id": "3168493b",
   "metadata": {},
   "outputs": [
    {
     "name": "stdout",
     "output_type": "stream",
     "text": [
      "[1, 3, 1, -3, 4]\n"
     ]
    }
   ],
   "source": [
    "my_list = [4,5,8,9,6,10]\n",
    "new_list = []\n",
    "for x in range(len(my_list)-1):\n",
    "    new_list.append(my_list[x+1] - my_list[x])\n",
    "print(new_list)\n",
    "# print(list(map(operator.sub, my_list[1:], my_list[:-1])))"
   ]
  },
  {
   "cell_type": "markdown",
   "id": "aa72b03a",
   "metadata": {},
   "source": [
    "### Write a Python program to get the frequency of the elements in a given list of lists.\n",
    "Original list of lists: [[1, 2, 3, 2], [4, 5, 6, 2], [7, 8, 9, 5]]\n",
    "Frequency of the elements in the said list of lists:\n",
    "{1: 1, 2: 3, 3: 1, 4: 1, 5: 2, 6: 1, 7: 1, 8: 1, 9: 1}\n"
   ]
  },
  {
   "cell_type": "code",
   "execution_count": 6,
   "id": "dd2695bd",
   "metadata": {},
   "outputs": [
    {
     "name": "stdout",
     "output_type": "stream",
     "text": [
      "{1: 1, 2: 3, 3: 1, 4: 1, 5: 2, 6: 1, 7: 1, 8: 1, 9: 1}\n"
     ]
    }
   ],
   "source": [
    "given_list = [[1, 2, 3, 2], [4, 5, 6, 2], [7, 8, 9, 5]]\n",
    "my_dict = {}\n",
    "_count = [item for sublist in given_list for item in sublist]\n",
    "for val in _count:\n",
    "    if val in my_dict.keys():\n",
    "        my_dict[val]+=1\n",
    "    else:\n",
    "        key = val\n",
    "        value = 1\n",
    "        my_dict[key] = value\n",
    "print(my_dict)"
   ]
  },
  {
   "cell_type": "markdown",
   "id": "8e79b2ad",
   "metadata": {},
   "source": [
    "### Write a Python program to combine two lists into a dictionary, where the elements of the first one serve as the keys and the elements of the second one serve as the values. The values of the first list need to be unique and hashable.\n",
    "Sample Output:\n",
    "Original lists:\n",
    "['a', 'b', 'c', 'd', 'e', 'f']\n",
    "[1, 2, 3, 4, 5]\n",
    "Combine the values of the said two lists into a dictionary:\n",
    "{'a': 1, 'b': 2, 'c': 3, 'd': 4, 'e': 5}\n"
   ]
  },
  {
   "cell_type": "code",
   "execution_count": 7,
   "id": "655b737c",
   "metadata": {},
   "outputs": [
    {
     "name": "stdout",
     "output_type": "stream",
     "text": [
      "{'a': 1, 'b': 2, 'c': 3, 'd': 4, 'e': 5}\n"
     ]
    }
   ],
   "source": [
    "l1= ['a', 'b', 'c', 'd', 'e', 'f']\n",
    "l2=[1, 2, 3, 4, 5]\n",
    "new_dict = {l1[i]:l2[i] for i in range(len(l2))}\n",
    "# new_dict = dict(zip(l1, l2))\n",
    "print(new_dict)"
   ]
  },
  {
   "cell_type": "markdown",
   "id": "6d9253a1",
   "metadata": {},
   "source": [
    "### Write a Python program to find the key of the maximum value in a dictionary.\n",
    "Sample Output:\n",
    "Original dictionary elements\n",
    "{'Theodore': 19, 'Roxanne': 22, 'Mathew': 21, 'Betty': 20}\n",
    "the maximum and minimum value of the said dictionary: \n",
    "('Roxanne', 'Theodore')\n"
   ]
  },
  {
   "cell_type": "code",
   "execution_count": 8,
   "id": "7ac70a2f",
   "metadata": {},
   "outputs": [
    {
     "name": "stdout",
     "output_type": "stream",
     "text": [
      "('Theodore', 'Roxanne')\n"
     ]
    }
   ],
   "source": [
    "my_dict = {'Theodore': 19, 'Roxanne': 22, 'Mathew': 21, 'Betty': 20}\n",
    "val_dict = my_dict.values()\n",
    "max_val = max(val_dict)\n",
    "min_val = min(val_dict)\n",
    "my_list = []\n",
    "for key, value in my_dict.items():\n",
    "    if(value == max_val or value == min_val):\n",
    "        my_list.append(key)\n",
    "        my_tuple = tuple(my_list)\n",
    "print(my_tuple)"
   ]
  },
  {
   "cell_type": "markdown",
   "id": "edf5c2f8",
   "metadata": {},
   "source": [
    "### Write a Python program to construct the following pattern, using a nested for loop.\n",
    "*\n",
    "* *\n",
    "* * *\n",
    "* * * *\n",
    "* * * * *\n",
    "* * * *\n",
    "* * *\n",
    "* *\n",
    "*\n"
   ]
  },
  {
   "cell_type": "code",
   "execution_count": 9,
   "id": "b314db9d",
   "metadata": {},
   "outputs": [
    {
     "name": "stdout",
     "output_type": "stream",
     "text": [
      "* \n",
      "* * \n",
      "* * * \n",
      "* * * * \n",
      "* * * * * \n",
      "* * * * \n",
      "* * * \n",
      "* * \n",
      "* \n"
     ]
    }
   ],
   "source": [
    "for i in range(5):\n",
    "    for j in range(0, i+1):\n",
    "        print(\"*\", end = ' ')\n",
    "    print()\n",
    "for i in range(1, 5):\n",
    "    for j in range(i, 5):\n",
    "        print(\"*\", end = ' ')\n",
    "    print()"
   ]
  },
  {
   "cell_type": "markdown",
   "id": "54e77873",
   "metadata": {},
   "source": [
    "### Write a Python program that prints all the numbers from 0 to 20 except the numbers in the given list [ 5, 6, 12, 15].\n",
    "Note : use the ‘continue' statement.\n"
   ]
  },
  {
   "cell_type": "code",
   "execution_count": 10,
   "id": "4b8d5218",
   "metadata": {},
   "outputs": [
    {
     "name": "stdout",
     "output_type": "stream",
     "text": [
      "0 1 2 3 4 7 8 9 10 11 13 14 16 17 18 19 20 "
     ]
    }
   ],
   "source": [
    "my_list = [5,6,12,15]\n",
    "def print_num(my_list):\n",
    "    for x in range(0, 21):\n",
    "        if x in my_list:\n",
    "            continue\n",
    "        else:\n",
    "            print(x, end=' ')\n",
    "print_num(my_list)"
   ]
  },
  {
   "cell_type": "markdown",
   "id": "42a2bb17",
   "metadata": {},
   "source": [
    "### Write a Program to count the number of vowels in a given string.\n",
    "\tExample:\n",
    "\tInput_string = ‘Hello World’\n",
    "\tCount_output = 3\n"
   ]
  },
  {
   "cell_type": "code",
   "execution_count": 11,
   "id": "c9c7bae3",
   "metadata": {},
   "outputs": [
    {
     "name": "stdout",
     "output_type": "stream",
     "text": [
      "There are 2 vowel in the string 'NABIN'\n"
     ]
    }
   ],
   "source": [
    "vowels = ['a','e','i','o','u','A','E','I','O','U']\n",
    "def count_vowel(vowels, string):\n",
    "    count = 0\n",
    "    for char in string:\n",
    "        if char in vowels:\n",
    "            count+=1;\n",
    "        else:\n",
    "            continue\n",
    "    print(f\"There are {count} vowel in the string '{string}'\")\n",
    "\n",
    "my_string = \"NABIN\"\n",
    "count_vowel(vowels, my_string)"
   ]
  },
  {
   "cell_type": "markdown",
   "id": "20a5db78",
   "metadata": {},
   "source": [
    "### Write a Python program to remove consecutive duplicates from a list.\n",
    "Original list:\n",
    "initial_input = [0, 0, 1, 2, 3, 4, 4, 5, 6, 6, 6, 7, 8, 9, 4, 4]\n",
    "After removing consecutive duplicates:\n",
    "final_output = [0, 1, 2, 3, 4, 5, 6, 7, 8, 9, 4]"
   ]
  },
  {
   "cell_type": "code",
   "execution_count": 12,
   "id": "8ff20423",
   "metadata": {},
   "outputs": [
    {
     "name": "stdout",
     "output_type": "stream",
     "text": [
      "[0, 1, 2, 3, 4, 5, 6, 7, 8, 9, 4]\n"
     ]
    }
   ],
   "source": [
    "initial_input = [0, 0, 1, 2, 3, 4, 4, 5, 6, 6, 6, 7, 8, 9, 4, 4]\n",
    "op_list = []\n",
    "for x in range(len(initial_input)):\n",
    "    if(initial_input[x] == initial_input[x-1]):\n",
    "        continue\n",
    "    else:\n",
    "        op_list.append(initial_input[x])\n",
    "print(op_list)"
   ]
  },
  {
   "cell_type": "markdown",
   "id": "3c7bc8cd",
   "metadata": {},
   "source": [
    "### Write a Program to read a sample text file and count the words having length greater than or equal to 5."
   ]
  },
  {
   "cell_type": "code",
   "execution_count": 13,
   "id": "4c26331b",
   "metadata": {
    "scrolled": true
   },
   "outputs": [
    {
     "name": "stdout",
     "output_type": "stream",
     "text": [
      "There are 1 numbers of words having word length greater than 5\n"
     ]
    }
   ],
   "source": [
    "_count = 0\n",
    "with open('sample.txt','w') as new_file:\n",
    "    new_file.write(\"Hyanmikha\")\n",
    "with open(\"sample.txt\", \"r\") as data:\n",
    "    for line in data:\n",
    "        words = line.split()\n",
    "for x in words:\n",
    "    if(len(x)>5):\n",
    "        _count+=1\n",
    "print(f\"There are {_count} numbers of words having word length greater than 5\")"
   ]
  },
  {
   "cell_type": "markdown",
   "id": "8e35bf29",
   "metadata": {},
   "source": [
    "### Write a program to read a sample text file and Capitalize the each word and append it to the same file."
   ]
  },
  {
   "cell_type": "code",
   "execution_count": 14,
   "id": "0eee970a",
   "metadata": {},
   "outputs": [
    {
     "name": "stdout",
     "output_type": "stream",
     "text": [
      "HyanmikhaHYANMIKHA\n"
     ]
    }
   ],
   "source": [
    "with open('sample.txt','w') as new_file:\n",
    "    new_file.write(\"Hyanmikha\")\n",
    "\n",
    "with open(\"sample.txt\", \"r\") as file:\n",
    "    for line in file:\n",
    "        words = line.split()\n",
    "\n",
    "with open(\"sample.txt\", \"a\") as w_data:\n",
    "    for x in words:\n",
    "        w_data.write(x.upper())\n",
    "\n",
    "with open(\"sample.txt\", \"r\") as file:\n",
    "    print(file.read())\n"
   ]
  },
  {
   "cell_type": "markdown",
   "id": "c6abd35c",
   "metadata": {},
   "source": [
    "### Write a function in Python that takes a normal .txt file path as an input and counts the word in a given list [ the, these, that, and]  and displays it."
   ]
  },
  {
   "cell_type": "code",
   "execution_count": 15,
   "id": "26ea6a90",
   "metadata": {},
   "outputs": [
    {
     "name": "stdout",
     "output_type": "stream",
     "text": [
      "The listed words are ['the', 'these', 'that', 'and']\n",
      "There are 1 number of listed word in file\n"
     ]
    }
   ],
   "source": [
    "word_list = [ \"the\", \"these\", \"that\", \"and\"]\n",
    "def count_word_list(word_list):\n",
    "    count = 0\n",
    "    with open(\"new_sample.txt\", \"r\") as file:\n",
    "        for line in file:\n",
    "            words = line.split()\n",
    "        for x in words:\n",
    "            if(x in word_list):\n",
    "                count += 1\n",
    "    print(f\"There are {count} number of listed word in file\")\n",
    "\n",
    "with open(\"new_sample.txt\", \"w\") as newfile:\n",
    "    newfile.write(\"the Khwopa Engneering College\")\n",
    "print(f\"The listed words are {word_list}\")\n",
    "count_word_list(word_list)"
   ]
  },
  {
   "cell_type": "markdown",
   "id": "521b3ac7",
   "metadata": {},
   "source": [
    "### Map, Filter, Reduce Question:  Given a list of strings fruits as shown below:\n",
    " fruits = [\"Apple\", \"Banana\", \"Pear\", \"Apricot\", \"Orange\"]. "
   ]
  },
  {
   "cell_type": "code",
   "execution_count": 16,
   "id": "535f81c6",
   "metadata": {},
   "outputs": [],
   "source": [
    "fruits = [\"Apple\", \"Banana\", \"Pear\", \"Apricot\", \"Orange\"]"
   ]
  },
  {
   "cell_type": "markdown",
   "id": "070b9134",
   "metadata": {},
   "source": [
    "### Change each of the words to uppercase using map function"
   ]
  },
  {
   "cell_type": "code",
   "execution_count": 17,
   "id": "6de3fade",
   "metadata": {},
   "outputs": [
    {
     "name": "stdout",
     "output_type": "stream",
     "text": [
      "['APPLE', 'BANANA', 'PEAR', 'APRICOT', 'ORANGE']\n"
     ]
    }
   ],
   "source": [
    "print(list(map(str.upper, fruits)))"
   ]
  },
  {
   "cell_type": "markdown",
   "id": "f30534d9",
   "metadata": {},
   "source": [
    "### Filter out the words starting with ‘A’ using filter functionality"
   ]
  },
  {
   "cell_type": "code",
   "execution_count": 18,
   "id": "54c772f7",
   "metadata": {},
   "outputs": [
    {
     "name": "stdout",
     "output_type": "stream",
     "text": [
      "['Apple', 'Apricot']\n"
     ]
    }
   ],
   "source": [
    "print(list(filter(lambda x:x[0] == \"A\", fruits)))"
   ]
  },
  {
   "cell_type": "markdown",
   "id": "fbb86179",
   "metadata": {},
   "source": [
    "### Concat all words using reduce "
   ]
  },
  {
   "cell_type": "code",
   "execution_count": 19,
   "id": "6b704df2",
   "metadata": {},
   "outputs": [
    {
     "name": "stdout",
     "output_type": "stream",
     "text": [
      "AppleBananaPearApricotOrange\n"
     ]
    }
   ],
   "source": [
    "from functools import reduce\n",
    "print(reduce(lambda x,y: x+y, fruits))"
   ]
  }
 ],
 "metadata": {
  "kernelspec": {
   "display_name": "Python 3 (ipykernel)",
   "language": "python",
   "name": "python3"
  },
  "language_info": {
   "codemirror_mode": {
    "name": "ipython",
    "version": 3
   },
   "file_extension": ".py",
   "mimetype": "text/x-python",
   "name": "python",
   "nbconvert_exporter": "python",
   "pygments_lexer": "ipython3",
   "version": "3.9.6"
  }
 },
 "nbformat": 4,
 "nbformat_minor": 5
}
