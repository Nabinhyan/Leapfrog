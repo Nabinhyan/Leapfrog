{
 "cells": [
  {
   "cell_type": "markdown",
   "id": "d0b4f7db",
   "metadata": {},
   "source": [
    "### Create generator with and without comprehension for getting multiples of given number upto 10.\n",
    "Eg. generator(5) =>> 5, 10, 15 …. 50\n"
   ]
  },
  {
   "cell_type": "code",
   "execution_count": 1,
   "id": "bca50d86",
   "metadata": {},
   "outputs": [
    {
     "name": "stdout",
     "output_type": "stream",
     "text": [
      "13 26 39 52 65 78 91 104 117 130 "
     ]
    }
   ],
   "source": [
    "def generator_multiply(num):\n",
    "    i=1\n",
    "    while(True):\n",
    "        yield i*num\n",
    "        i+=1\n",
    "        if(i>10): return\n",
    "\n",
    "N = 13\n",
    "for i in generator_multiply(N):\n",
    "    print(i, end = \" \")\n",
    "    "
   ]
  },
  {
   "cell_type": "markdown",
   "id": "f0280e72",
   "metadata": {},
   "source": [
    "### Create a scenario where the following errors are handled:\n"
   ]
  },
  {
   "cell_type": "markdown",
   "id": "a81208be",
   "metadata": {},
   "source": [
    "### Custom Error implemented using class\n"
   ]
  },
  {
   "cell_type": "code",
   "execution_count": 4,
   "id": "e3864e5f",
   "metadata": {},
   "outputs": [
    {
     "name": "stdout",
     "output_type": "stream",
     "text": [
      "My exceptation occored: 6\n"
     ]
    }
   ],
   "source": [
    "class MyError(Exception):\n",
    "     def __init__(self, value):\n",
    "        self.value = value\n",
    "     def __str__(self):\n",
    "        return(self.value)\n",
    " \n",
    "try:\n",
    "    raise(MyError(3*2))\n",
    " \n",
    "# Value of Exception is stored in error\n",
    "except MyError as error:\n",
    "    print(f\"My exceptation occored: {str(error.value)}\")"
   ]
  },
  {
   "cell_type": "markdown",
   "id": "9b03d341",
   "metadata": {},
   "source": [
    "### Custom Error using Exception or BaseException class using message to handle at least two of the cases."
   ]
  },
  {
   "cell_type": "code",
   "execution_count": 4,
   "id": "af971dcb",
   "metadata": {},
   "outputs": [
    {
     "name": "stdout",
     "output_type": "stream",
     "text": [
      "Enter the number:50\n",
      "Input number is same as previously set number\n"
     ]
    }
   ],
   "source": [
    "class ValueTooLargeError(Exception):\n",
    "    pass\n",
    "\n",
    "class ValueTooSmallError(Exception):\n",
    "    pass\n",
    "\n",
    "number = 50\n",
    "\n",
    "try:\n",
    "    inp_num = int(input(\"Enter the number:\"))\n",
    "    if(inp_num > number):\n",
    "        raise ValueTooLargeError\n",
    "    elif(inp_num < number):\n",
    "        raise ValueTooSmallError\n",
    "    else:\n",
    "        print(\"Input number is same as previously set number\")\n",
    "except ValueTooSmallError:\n",
    "    print(\"This value is too small!!!\")\n",
    "except ValueTooLargeError:\n",
    "    print(\"This value is too large!!!\")\n",
    "        \n"
   ]
  },
  {
   "cell_type": "markdown",
   "id": "68f3493a",
   "metadata": {},
   "source": [
    "### The full-fledged case for exception handling using try, except, else, finally"
   ]
  },
  {
   "cell_type": "code",
   "execution_count": 5,
   "id": "88926e9d",
   "metadata": {},
   "outputs": [
    {
     "name": "stdout",
     "output_type": "stream",
     "text": [
      "0\n",
      "1\n",
      "0\n",
      "0\n",
      "integer division or modulo by zero has occured\n",
      "Wrapup the exceptation handelling block\n"
     ]
    }
   ],
   "source": [
    "my_list = [1,2,3,0,5,8]\n",
    "# my_list = [1,2,3,1,5,8]\n",
    "try:\n",
    "#     print(my_list[10])\n",
    "    print(my_list[3])\n",
    "    for x in my_list:\n",
    "        for y in my_list:\n",
    "            print(x//y)\n",
    "except LookupError:\n",
    "    print(\"print of list index is out of index\")\n",
    "except ZeroDivisionError as err:\n",
    "    print(f\"{err} has occured\")\n",
    "else:\n",
    "    print(\"The try block executed successfully\")\n",
    "finally:\n",
    "    print(\"Wrapup the exceptation handelling block\")"
   ]
  },
  {
   "cell_type": "markdown",
   "id": "adbf1f11",
   "metadata": {},
   "source": [
    "### Create at least 4 classes having semantic meaning (having relation to each other) so that multiple inheritance can be achieved and incorporating the following things in some of them:\n",
    "@classmethod \n",
    "@staticmethod\n",
    "@property and setter for it\n",
    "Class_variable\n"
   ]
  },
  {
   "cell_type": "code",
   "execution_count": 81,
   "id": "a2afdc01",
   "metadata": {},
   "outputs": [
    {
     "name": "stdout",
     "output_type": "stream",
     "text": [
      "[<class '__main__.Final_Detail'>, <class '__main__.Personal_Detail'>, <class '__main__.School_Detail'>, <class '__main__.HSEB_Detail'>, <class '__main__.College_Detail'>, <class 'object'>]\n"
     ]
    }
   ],
   "source": [
    "class Personal_Detail:\n",
    "    def __init__(self, fname, lname, age):\n",
    "        self.fname = fname\n",
    "        self.lname = lname\n",
    "        self.age = age\n",
    "        self.__country = \"Nepal\"\n",
    "        \n",
    "    def printDetail(self):\n",
    "        print(self.fname, self.lname, self.age)\n",
    "        \n",
    "    @property\n",
    "    def fullname(self):\n",
    "        return \"My Name is \"+self.fname+\" \"+self.lname+\" and \"+self.__country+\" is my country.\"\n",
    "    \n",
    "    @fullname.setter\n",
    "    def fullname(self, full_name):\n",
    "        self.fname, self.lname = full_name.split()\n",
    "        \n",
    "        \n",
    "class School_Detail:\n",
    "    def __init__(self, school_name, school_address):\n",
    "        self.school_name = school_name\n",
    "        self.school_address = school_address\n",
    "    \n",
    "    def __str__(self):\n",
    "        return f\"{self.school_name} is my school locating at {self.school_address}\"\n",
    "    \n",
    "    \n",
    "class HSEB_Detail:\n",
    "    def __init__(self, h_school_name, h_school_address):\n",
    "        self.h_school_name = h_school_name\n",
    "        self.h_school_address = h_school_address\n",
    "        \n",
    "    def __str__(self):\n",
    "        return f\"{self.h_school_name} is my higher secondary school locating at {self.h_school_address}\"\n",
    "        \n",
    "        \n",
    "class College_Detail:\n",
    "    def __init__(self, colz_name, colz_address, stream, level):\n",
    "        self.colz_name = colz_name\n",
    "        self.colz_address = colz_address\n",
    "        self.stream = stream\n",
    "        self.level = level\n",
    "        \n",
    "    @staticmethod\n",
    "    def level_detail(self):\n",
    "        if(self.level == \"Bachelor\"):\n",
    "            return \"Under Graduate\"\n",
    "        elif(self.level == \"Masters\"):\n",
    "            return \"Graduate\"\n",
    "        \n",
    "    def __str__(self):\n",
    "        return f\"{self.colz_name} is my college locating at {self.colz_address} and I am reading in {self.level} in {self.stream} stream.\"\n",
    "\n",
    "    \n",
    "class Final_Detail(Personal_Detail, School_Detail, HSEB_Detail, College_Detail):\n",
    "    pass\n",
    "\n",
    "\n",
    "print(Final_Detail.mro())"
   ]
  },
  {
   "cell_type": "code",
   "execution_count": 82,
   "id": "8ebe9efa",
   "metadata": {},
   "outputs": [],
   "source": [
    "x = Final_Detail(\"nabin\", \"hyanmikha\", \"12\")"
   ]
  },
  {
   "cell_type": "code",
   "execution_count": 83,
   "id": "acecd374",
   "metadata": {},
   "outputs": [
    {
     "data": {
      "text/plain": [
       "'My Name is nabin hyanmikha and Nepal is my country.'"
      ]
     },
     "execution_count": 83,
     "metadata": {},
     "output_type": "execute_result"
    }
   ],
   "source": [
    "x.fullname"
   ]
  },
  {
   "cell_type": "code",
   "execution_count": 84,
   "id": "e79d356e",
   "metadata": {},
   "outputs": [],
   "source": [
    "x = School_Detail(\"Khec\", \"Dekocha\")"
   ]
  },
  {
   "cell_type": "code",
   "execution_count": 85,
   "id": "6aa4f6b1",
   "metadata": {},
   "outputs": [
    {
     "name": "stdout",
     "output_type": "stream",
     "text": [
      "Khec is my school locating at Dekocha\n"
     ]
    }
   ],
   "source": [
    "print(x)"
   ]
  },
  {
   "cell_type": "code",
   "execution_count": 86,
   "id": "cce7b5de",
   "metadata": {},
   "outputs": [],
   "source": [
    "x = HSEB_Detail(\"KhSS\", \"BKT\")"
   ]
  },
  {
   "cell_type": "code",
   "execution_count": 87,
   "id": "1bfdc991",
   "metadata": {},
   "outputs": [
    {
     "name": "stdout",
     "output_type": "stream",
     "text": [
      "KhSS is my higher secondary school locating at BKT\n"
     ]
    }
   ],
   "source": [
    "print(x)"
   ]
  },
  {
   "cell_type": "code",
   "execution_count": 88,
   "id": "38479561",
   "metadata": {},
   "outputs": [],
   "source": [
    "x = College_Detail(\"KhEC\",\"Liwali\", \"Engineering\", \"Bachelor\")"
   ]
  },
  {
   "cell_type": "code",
   "execution_count": 90,
   "id": "d9ca879e",
   "metadata": {},
   "outputs": [
    {
     "name": "stdout",
     "output_type": "stream",
     "text": [
      "KhEC is my college locating at Liwali and I am reading in Bachelor in Engineering stream.\n"
     ]
    }
   ],
   "source": [
    "print(x)"
   ]
  },
  {
   "cell_type": "markdown",
   "id": "6cd544ee",
   "metadata": {},
   "source": [
    "### Create a class for complex number implementing all the arithmetic operations and relational operations related dunder methods"
   ]
  },
  {
   "cell_type": "code",
   "execution_count": 120,
   "id": "2b0f7ac4",
   "metadata": {},
   "outputs": [
    {
     "name": "stdout",
     "output_type": "stream",
     "text": [
      "(9)+(9)i\n",
      "(-3)+(-1)i\n",
      "(18)+(20)i\n"
     ]
    }
   ],
   "source": [
    "class Complex:\n",
    "    def __init__(self, f_real, f_img):\n",
    "        self.f_real = f_real\n",
    "        self.f_img = f_img\n",
    "        \n",
    "    def __str__(self):\n",
    "        return f\"({self.f_real})+({self.f_img})i\"\n",
    "    \n",
    "    def __add__(self, sec):\n",
    "        return Complex(self.f_real+sec.f_real, self.f_img+sec.f_img)\n",
    "    \n",
    "    def __sub__(self, sec):\n",
    "        return Complex(self.f_real-sec.f_real, self.f_img-sec.f_img)\n",
    "        \n",
    "    def __mul__(self, sec):\n",
    "        return Complex(self.f_real*sec.f_real, self.f_img*sec.f_img)\n",
    "\n",
    "\n",
    "com1 = Complex(3,4)\n",
    "com2 = Complex(6,5)\n",
    "# print(com.showme())\n",
    "comadd = com1 + com2\n",
    "print(comadd)\n",
    "\n",
    "comsub = com1 - com2\n",
    "print(comsub)\n",
    "\n",
    "commul = com1 * com2\n",
    "print(commul)"
   ]
  },
  {
   "cell_type": "code",
   "execution_count": null,
   "id": "006bbba0",
   "metadata": {},
   "outputs": [],
   "source": [
    "\n",
    "\n"
   ]
  }
 ],
 "metadata": {
  "kernelspec": {
   "display_name": "Python 3 (ipykernel)",
   "language": "python",
   "name": "python3"
  },
  "language_info": {
   "codemirror_mode": {
    "name": "ipython",
    "version": 3
   },
   "file_extension": ".py",
   "mimetype": "text/x-python",
   "name": "python",
   "nbconvert_exporter": "python",
   "pygments_lexer": "ipython3",
   "version": "3.9.6"
  }
 },
 "nbformat": 4,
 "nbformat_minor": 5
}
