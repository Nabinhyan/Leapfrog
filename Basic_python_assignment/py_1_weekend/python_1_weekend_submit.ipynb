{
 "cells": [
  {
   "cell_type": "markdown",
   "id": "d64f8848",
   "metadata": {},
   "source": [
    "# Question 1"
   ]
  },
  {
   "cell_type": "markdown",
   "id": "60bb6a72",
   "metadata": {},
   "source": [
    "### Using Map with lambda function generates a third list with a single map statement that sums the integer elements of the same index of two given lists."
   ]
  },
  {
   "cell_type": "code",
   "execution_count": 58,
   "id": "642ccea6",
   "metadata": {},
   "outputs": [
    {
     "name": "stdout",
     "output_type": "stream",
     "text": [
      "[101, 210, 400, 1400, 10500]\n"
     ]
    }
   ],
   "source": [
    "lst1=[100, 200, 300, 400, 500]\n",
    "lst2=[1,10,100,1000,10000]\n",
    "\n",
    "op = list(map(lambda x, y:x+y, lst1, lst2))\n",
    "print(op)"
   ]
  },
  {
   "cell_type": "markdown",
   "id": "6cb6e899",
   "metadata": {},
   "source": [
    "### Create a program to create a following form inputs as CLI inputs \n",
    "\t\n",
    "Variable -> type\n",
    "Name -> String\n",
    "DOB -> Date type in format ‘mm/dd/yy’\n",
    "Age -> Integer\n",
    "Hobbies -> List of stings \n",
    "\n",
    "And write to a file as json data. Give a choice to the user to quit the program or repeat the process.\n",
    "Also Validate the data type from the user.\n"
   ]
  },
  {
   "cell_type": "code",
   "execution_count": 59,
   "id": "bbfa00d8",
   "metadata": {},
   "outputs": [
    {
     "name": "stdout",
     "output_type": "stream",
     "text": [
      "Enter your name:nabin\n",
      "Enter your Date of Birth:2055-3-2\n",
      "Enter your age:24\n",
      "Enter 3 list of your hobbies:\n",
      "photography\n",
      "table tennis\n",
      "reading\n"
     ]
    }
   ],
   "source": [
    "import datetime\n",
    "import json\n",
    "\n",
    "my_dict = {}\n",
    "\n",
    "def write_json(my_dict, filename = 'data.json'):\n",
    "    with open(filename, 'a') as file:\n",
    "        json.dump(my_dict, file)  \n",
    "\n",
    "def validate_DOB(DOB):\n",
    "    try:\n",
    "        datetime.datetime.strptime(DOB, '%Y-%m-%d')\n",
    "    except ValueError:\n",
    "        raise ValueError(\"Format mis-matched, it must be in format YYYY-MM-DD\")\n",
    "    \n",
    "def validate_age(age):\n",
    "    try:\n",
    "        age.isdigit()\n",
    "    except ValueError:\n",
    "        raise ValueError(\"Age must be numberic\")\n",
    "    \n",
    "def validate_string(chkstring):\n",
    "    try:\n",
    "        isinstance(chkstring, str)\n",
    "    except ValueError:\n",
    "        raise ValueError(\"Input must be String\")\n",
    "        \n",
    "name = input(\"Enter your name:\")\n",
    "validate_string(name)\n",
    "my_dict['Name'] = name\n",
    "\n",
    "DOB = input(\"Enter your Date of Birth:\")\n",
    "validate_DOB(DOB)\n",
    "my_dict['DOB'] = DOB\n",
    "\n",
    "age = input(\"Enter your age:\")\n",
    "validate_age(age)\n",
    "my_dict['age'] = age\n",
    "\n",
    "print(\"Enter 3 list of your hobbies:\")\n",
    "hobbies = []\n",
    "for x in range(3):\n",
    "    y = input()\n",
    "    validate_string(y)\n",
    "    hobbies.append(y)\n",
    "my_dict['Hobbies'] = hobbies   \n",
    "write_json(my_dict)"
   ]
  },
  {
   "cell_type": "markdown",
   "id": "1392316e",
   "metadata": {},
   "source": [
    "### Write a function that takes a string and returns the dictionary with each character as key and its count as value."
   ]
  },
  {
   "cell_type": "code",
   "execution_count": 60,
   "id": "3040a50d",
   "metadata": {},
   "outputs": [
    {
     "name": "stdout",
     "output_type": "stream",
     "text": [
      "{'a': 5, 'b': 4, 'c': 3, 'd': 2, 'e': 1}\n"
     ]
    }
   ],
   "source": [
    "def myfunc(string):\n",
    "    mydict = {}\n",
    "    for keys in string:\n",
    "        mydict[keys] = mydict.get(keys, 0)+1\n",
    "    return str(mydict)\n",
    "\n",
    "mystr = \"aaaaabbbbcccdde\"\n",
    "result  = myfunc (mystr)\n",
    "print(result)"
   ]
  },
  {
   "cell_type": "markdown",
   "id": "c5f87438",
   "metadata": {},
   "source": [
    "### Write a function that takes a string and returns the dictionary with each character as key and its count as value."
   ]
  },
  {
   "cell_type": "code",
   "execution_count": 61,
   "id": "06c112eb",
   "metadata": {},
   "outputs": [
    {
     "name": "stdout",
     "output_type": "stream",
     "text": [
      "SEDAN SUV PICKUP MINIVAN VAN BICYCLE MOTORCYCLE\n"
     ]
    }
   ],
   "source": [
    "my_dict={\n",
    "\"Sedan\": 1500, \"SUV\": 2000, \"Pickup\": 2500, \"Minivan\": 1600, \"Van\": 2400, \"Semi\": 13600, \"Bicycle\": 7, \"Motorcycle\": 110\n",
    "}\n",
    "\n",
    "key_list = \" \".join(map(str.upper,[key for key,value in my_dict.items() if value<5000]))\n",
    "print(key_list)"
   ]
  },
  {
   "cell_type": "markdown",
   "id": "67f61a1c",
   "metadata": {},
   "source": [
    "#  Question 3"
   ]
  },
  {
   "cell_type": "markdown",
   "id": "c1ca87c8",
   "metadata": {},
   "source": [
    "### Write a function that takes a string and returns the dictionary with each character as key and its count as value. Given a string of brackets as input, determine whether each sequence of brackets is balanced. If a string is balanced, return YES. Otherwise, return NO."
   ]
  },
  {
   "cell_type": "code",
   "execution_count": 62,
   "id": "897db6a3",
   "metadata": {
    "scrolled": true
   },
   "outputs": [
    {
     "name": "stdout",
     "output_type": "stream",
     "text": [
      "Enter Brackets(){}[]:(){})(\n",
      "Balance Status is No\n"
     ]
    }
   ],
   "source": [
    "def isBalanced(brackets):\n",
    "    stack = 0\n",
    "    count = 0\n",
    "    for i in range(0,len(brackets)):\n",
    "        if (brackets[i] == '(' or brackets[i] == '{' or brackets[i] =='['):\n",
    "            stack +=1\n",
    "        else:\n",
    "            stack +=-1\n",
    "\n",
    "        if (stack == -1):\n",
    "            count +=1\n",
    "            stack +=1\n",
    "        if(count+stack == 0):\n",
    "            return \"Yes\"\n",
    "        else:\n",
    "            return \"No\"\n",
    "    \n",
    "input_brackets = input(\"Enter Brackets(){}[]:\")\n",
    "result = isBalanced(input_brackets)\n",
    "print(f\"Balance Status is {result}\")\n"
   ]
  },
  {
   "cell_type": "markdown",
   "id": "48265b6f",
   "metadata": {},
   "source": [
    "# Question 4 "
   ]
  },
  {
   "cell_type": "markdown",
   "id": "307236f0",
   "metadata": {},
   "source": [
    "### A left rotation operation on an integer array shifts each of the array's elements unit to the left. For example,  if 2 left rotations are performed on array [1,2,3,4,5] , then the array would become [3,4,5,1,2]\n"
   ]
  },
  {
   "cell_type": "code",
   "execution_count": 63,
   "id": "dd681b01",
   "metadata": {
    "scrolled": true
   },
   "outputs": [
    {
     "name": "stdout",
     "output_type": "stream",
     "text": [
      "[3, 4, 5, 1, 2]\n"
     ]
    }
   ],
   "source": [
    "#array_List is list of number\n",
    "#num_rotate = number of rotation\n",
    "#n is number of elements in list\n",
    "def rotateLeft(arr, num_rotate, n):\n",
    "    for i in range(num_rotate):\n",
    "        temp = arr[0]\n",
    "        for j in range(n-1):\n",
    "            arr[j] = arr[j+1]\n",
    "        arr[n-1] = temp\n",
    "    return arr\n",
    "  \n",
    "array_List = [1, 2, 3, 4, 5]\n",
    "num_rotate = 2\n",
    "result = rotateLeft(array_List, num_rotate, len(array_List))\n",
    "print(result)"
   ]
  },
  {
   "cell_type": "markdown",
   "id": "e9fcc3a3",
   "metadata": {},
   "source": [
    "# Python Assignment Part 2"
   ]
  },
  {
   "cell_type": "markdown",
   "id": "d0b4f7db",
   "metadata": {},
   "source": [
    "### Create generator with and without comprehension for getting multiples of given number upto 10.\n",
    "Eg. generator(5) =>> 5, 10, 15 …. 50\n"
   ]
  },
  {
   "cell_type": "code",
   "execution_count": 64,
   "id": "bca50d86",
   "metadata": {},
   "outputs": [
    {
     "name": "stdout",
     "output_type": "stream",
     "text": [
      "5 10 15 20 25 30 35 40 45 50 "
     ]
    }
   ],
   "source": [
    "def generator_multiply(num):\n",
    "    i=1\n",
    "    while(True):\n",
    "        yield i*num\n",
    "        i+=1\n",
    "        if(i>10): return\n",
    "\n",
    "N = 5\n",
    "for i in generator_multiply(N):\n",
    "    print(i, end = \" \")\n",
    "    "
   ]
  },
  {
   "cell_type": "markdown",
   "id": "0fcabb27",
   "metadata": {},
   "source": [
    "### Create a scenario where the following errors are handled:"
   ]
  },
  {
   "cell_type": "markdown",
   "id": "940339f5",
   "metadata": {},
   "source": [
    "### Custom Error implemented using class"
   ]
  },
  {
   "cell_type": "code",
   "execution_count": 65,
   "id": "a82b9778",
   "metadata": {},
   "outputs": [
    {
     "name": "stdout",
     "output_type": "stream",
     "text": [
      "My exceptation occored: 6\n"
     ]
    }
   ],
   "source": [
    "class MyError(Exception):\n",
    "     def __init__(self, value):\n",
    "        self.value = value\n",
    "     def __str__(self):\n",
    "        return(self.value)\n",
    " \n",
    "try:\n",
    "    raise(MyError(3*2))\n",
    " \n",
    "# Value of Exception is stored in error\n",
    "except MyError as error:\n",
    "    print(f\"My exceptation occored: {str(error.value)}\")"
   ]
  },
  {
   "cell_type": "markdown",
   "id": "7cb4c5b3",
   "metadata": {},
   "source": [
    "### Custom Error using Exception or BaseException class using message to handle at least two of the cases.\n"
   ]
  },
  {
   "cell_type": "code",
   "execution_count": 66,
   "id": "5287010b",
   "metadata": {},
   "outputs": [
    {
     "name": "stdout",
     "output_type": "stream",
     "text": [
      "Enter the number:50\n",
      "Input number is same as previously set number\n"
     ]
    }
   ],
   "source": [
    "class ValueTooLargeError(Exception):\n",
    "    pass\n",
    "\n",
    "\n",
    "class ValueTooSmallError(Exception):\n",
    "    pass\n",
    "\n",
    "\n",
    "number = 50\n",
    "try:\n",
    "    inp_num = int(input(\"Enter the number:\"))\n",
    "    if(inp_num > number):\n",
    "        raise ValueTooLargeError\n",
    "    elif(inp_num < number):\n",
    "        raise ValueTooSmallError\n",
    "    else:\n",
    "        print(\"Input number is same as previously set number\")\n",
    "except ValueTooSmallError:\n",
    "    print(\"This value is too small!!!\")\n",
    "except ValueTooLargeError:\n",
    "    print(\"This value is too large!!!\")\n",
    "        "
   ]
  },
  {
   "cell_type": "markdown",
   "id": "82b8a910",
   "metadata": {},
   "source": [
    "### The full-fledged case for exception handling using try, except, else, finally"
   ]
  },
  {
   "cell_type": "code",
   "execution_count": 67,
   "id": "ee3843b5",
   "metadata": {},
   "outputs": [
    {
     "name": "stdout",
     "output_type": "stream",
     "text": [
      "0\n",
      "1\n",
      "0\n",
      "0\n",
      "integer division or modulo by zero has occured\n",
      "Wrapup the exceptation handelling block\n"
     ]
    }
   ],
   "source": [
    "my_list = [1,2,3,0,5,8]\n",
    "# my_list = [1,2,3,1,5,8]\n",
    "try:\n",
    "#     print(my_list[10])\n",
    "    print(my_list[3])\n",
    "    for x in my_list:\n",
    "        for y in my_list:\n",
    "            print(x//y)\n",
    "except LookupError:\n",
    "    print(\"print of list index is out of index\")\n",
    "except ZeroDivisionError as err:\n",
    "    print(f\"{err} has occured\")\n",
    "else:\n",
    "    print(\"The try block executed successfully\")\n",
    "finally:\n",
    "    print(\"Wrapup the exceptation handelling block\")"
   ]
  },
  {
   "cell_type": "markdown",
   "id": "c79a7512",
   "metadata": {},
   "source": [
    "### Create at least 4 classes having semantic meaning (having relation to each other) so that multiple inheritance can be achieved and incorporating the following things in some of them:\n",
    "@classmethod \n",
    "@staticmethod\n",
    "@property and setter for it\n",
    "Class_variable\n"
   ]
  },
  {
   "cell_type": "code",
   "execution_count": 68,
   "id": "ac96996c",
   "metadata": {},
   "outputs": [
    {
     "name": "stdout",
     "output_type": "stream",
     "text": [
      "[<class '__main__.Final_Detail'>, <class '__main__.Personal_Detail'>, <class '__main__.School_Detail'>, <class '__main__.HSEB_Detail'>, <class '__main__.College_Detail'>, <class 'object'>]\n"
     ]
    }
   ],
   "source": [
    "class Personal_Detail:\n",
    "    def __init__(self, fname, lname, age):\n",
    "        self.fname = fname\n",
    "        self.lname = lname\n",
    "        self.age = age\n",
    "        self.__country = \"Nepal\"\n",
    "        \n",
    "    def printDetail(self):\n",
    "        print(self.fname, self.lname, self.age)\n",
    "        \n",
    "    @property\n",
    "    def fullname(self):\n",
    "        return \"My Name is \"+self.fname+\" \"+self.lname+\" and \"+self.__country+\" is my country.\"\n",
    "    \n",
    "    @fullname.setter\n",
    "    def fullname(self, full_name):\n",
    "        self.fname, self.lname = full_name.split()\n",
    "        \n",
    "        \n",
    "class School_Detail:\n",
    "    def __init__(self, school_name, school_address):\n",
    "        self.school_name = school_name\n",
    "        self.school_address = school_address\n",
    "    \n",
    "    def __str__(self):\n",
    "        return f\"{self.school_name} is my school locating at {self.school_address}\"\n",
    "    \n",
    "    \n",
    "class HSEB_Detail:\n",
    "    def __init__(self, h_school_name, h_school_address):\n",
    "        self.h_school_name = h_school_name\n",
    "        self.h_school_address = h_school_address\n",
    "        \n",
    "    def __str__(self):\n",
    "        return f\"{self.h_school_name} is my higher secondary school locating at {self.h_school_address}\"\n",
    "        \n",
    "        \n",
    "class College_Detail:\n",
    "    def __init__(self, colz_name, colz_address, stream, level):\n",
    "        self.colz_name = colz_name\n",
    "        self.colz_address = colz_address\n",
    "        self.stream = stream\n",
    "        self.level = level\n",
    "        \n",
    "    @staticmethod\n",
    "    def level_detail(self):\n",
    "        if(self.level == \"Bachelor\"):\n",
    "            return \"Under Graduate\"\n",
    "        elif(self.level == \"Masters\"):\n",
    "            return \"Graduate\"\n",
    "        \n",
    "    def __str__(self):\n",
    "        return f\"{self.colz_name} is my college locating at {self.colz_address} and I am reading in {self.level} in {self.stream} stream.\"\n",
    "\n",
    "    \n",
    "class Final_Detail(Personal_Detail, School_Detail, HSEB_Detail, College_Detail):\n",
    "    pass\n",
    "\n",
    "\n",
    "print(Final_Detail.mro())"
   ]
  },
  {
   "cell_type": "code",
   "execution_count": 69,
   "id": "41909a59",
   "metadata": {},
   "outputs": [
    {
     "data": {
      "text/plain": [
       "'My Name is nabin hyanmikha and Nepal is my country.'"
      ]
     },
     "execution_count": 69,
     "metadata": {},
     "output_type": "execute_result"
    }
   ],
   "source": [
    "x = Final_Detail(\"nabin\", \"hyanmikha\", \"12\")\n",
    "x.fullname"
   ]
  },
  {
   "cell_type": "code",
   "execution_count": 70,
   "id": "db3981eb",
   "metadata": {},
   "outputs": [
    {
     "name": "stdout",
     "output_type": "stream",
     "text": [
      "Khec is my school locating at Dekocha\n"
     ]
    }
   ],
   "source": [
    "x = School_Detail(\"Khec\", \"Dekocha\")\n",
    "print(x)"
   ]
  },
  {
   "cell_type": "code",
   "execution_count": 71,
   "id": "ce27ac9c",
   "metadata": {},
   "outputs": [
    {
     "name": "stdout",
     "output_type": "stream",
     "text": [
      "KhSS is my higher secondary school locating at BKT\n"
     ]
    }
   ],
   "source": [
    "x = HSEB_Detail(\"KhSS\", \"BKT\")\n",
    "print(x)"
   ]
  },
  {
   "cell_type": "code",
   "execution_count": 72,
   "id": "a5788134",
   "metadata": {},
   "outputs": [
    {
     "name": "stdout",
     "output_type": "stream",
     "text": [
      "KhEC is my college locating at Liwali and I am reading in Bachelor in Engineering stream.\n"
     ]
    }
   ],
   "source": [
    "x = College_Detail(\"KhEC\",\"Liwali\", \"Engineering\", \"Bachelor\")\n",
    "print(x)"
   ]
  },
  {
   "cell_type": "markdown",
   "id": "5f2df636",
   "metadata": {},
   "source": [
    "### Create a class for complex number implementing all the arithmetic operations and relational operations related dunder methods"
   ]
  },
  {
   "cell_type": "code",
   "execution_count": 73,
   "id": "28bdf4b8",
   "metadata": {
    "scrolled": true
   },
   "outputs": [
    {
     "name": "stdout",
     "output_type": "stream",
     "text": [
      "(9)+(9)i\n",
      "(-3)+(-1)i\n",
      "(18)+(20)i\n"
     ]
    }
   ],
   "source": [
    "class Complex:\n",
    "    def __init__(self, f_real, f_img):\n",
    "        self.f_real = f_real\n",
    "        self.f_img = f_img\n",
    "        \n",
    "    def __str__(self):\n",
    "        return f\"({self.f_real})+({self.f_img})i\"\n",
    "    \n",
    "    def __add__(self, sec):\n",
    "        return Complex(self.f_real+sec.f_real, self.f_img+sec.f_img)\n",
    "    \n",
    "    def __sub__(self, sec):\n",
    "        return Complex(self.f_real-sec.f_real, self.f_img-sec.f_img)\n",
    "        \n",
    "    def __mul__(self, sec):\n",
    "        return Complex(self.f_real*sec.f_real, self.f_img*sec.f_img)\n",
    "\n",
    "\n",
    "com1 = Complex(3,4)\n",
    "com2 = Complex(6,5)\n",
    "# print(com.showme())\n",
    "comadd = com1 + com2\n",
    "print(comadd)\n",
    "\n",
    "comsub = com1 - com2\n",
    "print(comsub)\n",
    "\n",
    "commul = com1 * com2\n",
    "print(commul)"
   ]
  },
  {
   "cell_type": "markdown",
   "id": "9a21dc49",
   "metadata": {},
   "source": [
    "### Replicate the behaviour of range() object using :"
   ]
  },
  {
   "cell_type": "markdown",
   "id": "d8720f44",
   "metadata": {},
   "source": [
    "### Iterator class, __iter__ and __next__"
   ]
  },
  {
   "cell_type": "code",
   "execution_count": 74,
   "id": "2963cbde",
   "metadata": {
    "scrolled": true
   },
   "outputs": [
    {
     "name": "stdout",
     "output_type": "stream",
     "text": [
      "Square number generator using Iterator class::\n",
      "\n",
      "1 4 9 16 25 36 49 64 81 100 "
     ]
    }
   ],
   "source": [
    "class Sq_Generator:\n",
    "    def __init__(self, i):\n",
    "        self.i = i+1\n",
    "        self.j = 1\n",
    "    \n",
    "    def __iter__(self):\n",
    "        return self\n",
    "    \n",
    "    def __next__(self):\n",
    "        self.x =self.j * self.j\n",
    "        self.j += 1\n",
    "        if(self.j <= self.i):\n",
    "            return self.x\n",
    "        raise StopIteration\n",
    "\n",
    "        \n",
    "print(\"Square number generator using Iterator class::\\n\")\n",
    "for c in Sq_Generator(10):\n",
    "    print(c, end = \" \")"
   ]
  },
  {
   "cell_type": "markdown",
   "id": "71e6c040",
   "metadata": {},
   "source": [
    "### Create a Class representing the clone behavior of lists in python."
   ]
  },
  {
   "cell_type": "code",
   "execution_count": 75,
   "id": "20ad8054",
   "metadata": {},
   "outputs": [
    {
     "name": "stdout",
     "output_type": "stream",
     "text": [
      "Original List: [1, 2, 3, 4, 5, 6, 7, 8, 9]\n",
      "After Cloning: [1, 2, 3, 4, 5, 6, 7, 8, 9]\n"
     ]
    }
   ],
   "source": [
    "class Clone():\n",
    "    def __init__(self, l1):\n",
    "        self.l1 = l1\n",
    "        \n",
    "    def cloning(self):\n",
    "        li_copy = self.l1[:]\n",
    "        print(\"Original List:\", self.l1)\n",
    "        print(\"After Cloning:\", li_copy)\n",
    "\n",
    "        \n",
    "my_list = [1,2,3,4,5,6,7,8,9]\n",
    "obj = Clone(my_list)\n",
    "obj.cloning()"
   ]
  },
  {
   "cell_type": "markdown",
   "id": "2fb61dc9",
   "metadata": {},
   "source": [
    "### Generator"
   ]
  },
  {
   "cell_type": "code",
   "execution_count": 76,
   "id": "f699451e",
   "metadata": {},
   "outputs": [
    {
     "name": "stdout",
     "output_type": "stream",
     "text": [
      "Square to 10 using generator function is:\n",
      "1 4 9 16 25 36 49 64 81 100 "
     ]
    }
   ],
   "source": [
    "def generator(num):\n",
    "    i=1\n",
    "    while(True):\n",
    "        yield i*i\n",
    "        i+=1\n",
    "        if(i>num): return\n",
    "\n",
    "N = 10\n",
    "print(f\"Square to {N} using generator function is:\")\n",
    "for i in generator(N):\n",
    "    print(i, end = \" \")"
   ]
  },
  {
   "cell_type": "markdown",
   "id": "7cb765fa",
   "metadata": {},
   "source": [
    "### Generator comprehension"
   ]
  },
  {
   "cell_type": "code",
   "execution_count": 77,
   "id": "9beccfa8",
   "metadata": {
    "scrolled": true
   },
   "outputs": [
    {
     "name": "stdout",
     "output_type": "stream",
     "text": [
      "0 1 4 9 16 25 36 49 64 81 100 "
     ]
    }
   ],
   "source": [
    "sq_gen = (i*i for i in range(11))\n",
    "\n",
    "for items in sq_gen:\n",
    "    print(items, end = \" \")"
   ]
  }
 ],
 "metadata": {
  "kernelspec": {
   "display_name": "Python 3 (ipykernel)",
   "language": "python",
   "name": "python3"
  },
  "language_info": {
   "codemirror_mode": {
    "name": "ipython",
    "version": 3
   },
   "file_extension": ".py",
   "mimetype": "text/x-python",
   "name": "python",
   "nbconvert_exporter": "python",
   "pygments_lexer": "ipython3",
   "version": "3.9.6"
  }
 },
 "nbformat": 4,
 "nbformat_minor": 5
}
